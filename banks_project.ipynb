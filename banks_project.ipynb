{
 "cells": [
  {
   "cell_type": "code",
   "execution_count": 101,
   "id": "8dcf7650-4ce1-4a18-bc8d-6e9f1b556166",
   "metadata": {},
   "outputs": [],
   "source": [
    "import requests\n",
    "from bs4 import BeautifulSoup\n",
    "import pandas as pd\n",
    "import sqlite3\n",
    "import numpy as np\n",
    "from datetime import datetime"
   ]
  },
  {
   "cell_type": "code",
   "execution_count": 102,
   "id": "cc81e35d-616b-4eed-bb1d-670ace00872e",
   "metadata": {},
   "outputs": [],
   "source": [
    "# Hàm lưu trữ log\n",
    "def log_progress(message):\n",
    "    timestamp_format = '%Y-%h-%d-%H:%M:%S'\n",
    "    now = datetime.now().strftime(timestamp_format)\n",
    "    log_entry = f\"{now}: {message}\\n\"\n",
    "    with open(r\"C:\\Users\\H\\Downloads\\FINAL_PROJECT\\code_log.txt\", \"a\") as f:\n",
    "        f.write(log_entry)\n",
    "    print(log_entry, end = \"\")"
   ]
  },
  {
   "cell_type": "code",
   "execution_count": 103,
   "id": "868c686e-8b6d-46e8-a53d-336c72f81b44",
   "metadata": {},
   "outputs": [
    {
     "name": "stdout",
     "output_type": "stream",
     "text": [
      "2025-Feb-24-16:10:29: LET GO\n"
     ]
    }
   ],
   "source": [
    "log_progress(\"LET GO\")"
   ]
  },
  {
   "cell_type": "code",
   "execution_count": 100,
   "id": "1980dd29-fe9c-4273-b17f-713930899e3e",
   "metadata": {},
   "outputs": [],
   "source": [
    "url = \"https://web.archive.org/web/20230908091635/https://en.wikipedia.org/wiki/List_of_largest_banks\"\n",
    "table_col = ['Name', 'MC_USD_Billion', 'MC_GBP_Billion', 'MC_EUR_Billion', 'MC_INR_Billion']"
   ]
  },
  {
   "cell_type": "code",
   "execution_count": 121,
   "id": "80426622-3c69-41e6-8e87-9b12a7a421fd",
   "metadata": {},
   "outputs": [],
   "source": [
    "#Hàm extract dữ liệu\n",
    "def extract(url):\n",
    "    html_text = requests.get(url).text\n",
    "    html_soup = BeautifulSoup(html_text,'html.parser')\n",
    "    df = pd.DataFrame(columns = table_col)\n",
    "    tbody = html_soup.find_all('tbody')\n",
    "    rows = tbody[1].find_all('tr')\n",
    "    for row in rows:\n",
    "        cell = row.find_all('td')\n",
    "        if len(cell) >= 3:\n",
    "            df.loc[len(df)] = {\n",
    "                table_col[0]: cell[1].get_text(strip=True),\n",
    "                table_col[1]: cell[2].get_text(strip=True),  \n",
    "                table_col[2]: None,\n",
    "                table_col[3]: None,\n",
    "                table_col[4]: None\n",
    "            }\n",
    "    log_progress('Extract data')\n",
    "    return df"
   ]
  },
  {
   "cell_type": "code",
   "execution_count": 122,
   "id": "580bfc0a-54d3-40ec-9d41-c8de7f8cf7fc",
   "metadata": {},
   "outputs": [
    {
     "name": "stdout",
     "output_type": "stream",
     "text": [
      "2025-Feb-24-16:17:44: Extract data\n",
      "                                              Name MC_USD_Billion  \\\n",
      "0  Industrial and Commercial Bank of China Limited       5,742.86   \n",
      "1                          China Construction Bank       5,016.81   \n",
      "2                       Agricultural Bank of China       4,919.03   \n",
      "3                                    Bank of China       4,192.12   \n",
      "4                                   JPMorgan Chase       3,868.24   \n",
      "\n",
      "  MC_GBP_Billion MC_EUR_Billion MC_INR_Billion  \n",
      "0           None           None           None  \n",
      "1           None           None           None  \n",
      "2           None           None           None  \n",
      "3           None           None           None  \n",
      "4           None           None           None  \n"
     ]
    }
   ],
   "source": [
    "df = extract(url)\n",
    "\n",
    "# Kiểm tra dữ liệu\n",
    "print(df.head())"
   ]
  },
  {
   "cell_type": "code",
   "execution_count": 110,
   "id": "2bd936ed-fc9e-4948-a043-917960ab1f18",
   "metadata": {},
   "outputs": [],
   "source": [
    "exchange_rate = pd.read_csv(r'C:\\Users\\H\\Downloads\\FINAL_PROJECT\\exchange_rate.csv')\n",
    "exchange_dict = exchange_rate.set_index('Currency').to_dict()['Rate']"
   ]
  },
  {
   "cell_type": "code",
   "execution_count": 111,
   "id": "cc68b4e5-e8f0-47b3-8408-8a525f5e538b",
   "metadata": {},
   "outputs": [
    {
     "name": "stdout",
     "output_type": "stream",
     "text": [
      "{'EUR': 0.93, 'GBP': 0.8, 'INR': 82.95}\n"
     ]
    }
   ],
   "source": [
    "print(exchange_dict)"
   ]
  },
  {
   "cell_type": "code",
   "execution_count": 112,
   "id": "377e2233-0a12-4f34-bd18-c637b543135e",
   "metadata": {},
   "outputs": [],
   "source": [
    "# Hàm biến đổi\n",
    "df[df.columns[1:]] = df[df.columns[1:]].apply(pd.to_numeric)\n",
    "def transform(df):\n",
    "    df['MC_GBP_Billion'] = [np.round(x*exchange_dict['GBP'],2) for x in df['MC_USD_Billion']]\n",
    "    df['MC_EUR_Billion'] = [np.round(x*exchange_dict['EUR'],2) for x in df['MC_USD_Billion']]\n",
    "    df['MC_INR_Billion'] = [np.round(x*exchange_dict['INR'],2) for x in df['MC_USD_Billion']]\n",
    "    log_progress('Transform data')\n",
    "    return df"
   ]
  },
  {
   "cell_type": "code",
   "execution_count": 113,
   "id": "f0efc15f-6cbd-4f5c-96eb-cae3deb83197",
   "metadata": {},
   "outputs": [
    {
     "name": "stdout",
     "output_type": "stream",
     "text": [
      "2025-Feb-24-16:12:26: Transform data\n"
     ]
    },
    {
     "data": {
      "text/html": [
       "<div>\n",
       "<style scoped>\n",
       "    .dataframe tbody tr th:only-of-type {\n",
       "        vertical-align: middle;\n",
       "    }\n",
       "\n",
       "    .dataframe tbody tr th {\n",
       "        vertical-align: top;\n",
       "    }\n",
       "\n",
       "    .dataframe thead th {\n",
       "        text-align: right;\n",
       "    }\n",
       "</style>\n",
       "<table border=\"1\" class=\"dataframe\">\n",
       "  <thead>\n",
       "    <tr style=\"text-align: right;\">\n",
       "      <th></th>\n",
       "      <th>Name</th>\n",
       "      <th>MC_USD_Billion</th>\n",
       "      <th>MC_GBP_Billion</th>\n",
       "      <th>MC_EUR_Billion</th>\n",
       "      <th>MC_INR_Billion</th>\n",
       "    </tr>\n",
       "  </thead>\n",
       "  <tbody>\n",
       "    <tr>\n",
       "      <th>0</th>\n",
       "      <td>JPMorgan Chase</td>\n",
       "      <td>432.92</td>\n",
       "      <td>346.34</td>\n",
       "      <td>402.62</td>\n",
       "      <td>35910.71</td>\n",
       "    </tr>\n",
       "    <tr>\n",
       "      <th>1</th>\n",
       "      <td>Bank of America</td>\n",
       "      <td>231.52</td>\n",
       "      <td>185.22</td>\n",
       "      <td>215.31</td>\n",
       "      <td>19204.58</td>\n",
       "    </tr>\n",
       "    <tr>\n",
       "      <th>2</th>\n",
       "      <td>Industrial and Commercial Bank of China</td>\n",
       "      <td>194.56</td>\n",
       "      <td>155.65</td>\n",
       "      <td>180.94</td>\n",
       "      <td>16138.75</td>\n",
       "    </tr>\n",
       "    <tr>\n",
       "      <th>3</th>\n",
       "      <td>Agricultural Bank of China</td>\n",
       "      <td>160.68</td>\n",
       "      <td>128.54</td>\n",
       "      <td>149.43</td>\n",
       "      <td>13328.41</td>\n",
       "    </tr>\n",
       "    <tr>\n",
       "      <th>4</th>\n",
       "      <td>HDFC Bank</td>\n",
       "      <td>157.91</td>\n",
       "      <td>126.33</td>\n",
       "      <td>146.86</td>\n",
       "      <td>13098.63</td>\n",
       "    </tr>\n",
       "    <tr>\n",
       "      <th>5</th>\n",
       "      <td>Wells Fargo</td>\n",
       "      <td>155.87</td>\n",
       "      <td>124.70</td>\n",
       "      <td>144.96</td>\n",
       "      <td>12929.42</td>\n",
       "    </tr>\n",
       "    <tr>\n",
       "      <th>6</th>\n",
       "      <td>HSBC Holdings PLC</td>\n",
       "      <td>148.90</td>\n",
       "      <td>119.12</td>\n",
       "      <td>138.48</td>\n",
       "      <td>12351.26</td>\n",
       "    </tr>\n",
       "    <tr>\n",
       "      <th>7</th>\n",
       "      <td>Morgan Stanley</td>\n",
       "      <td>140.83</td>\n",
       "      <td>112.66</td>\n",
       "      <td>130.97</td>\n",
       "      <td>11681.85</td>\n",
       "    </tr>\n",
       "    <tr>\n",
       "      <th>8</th>\n",
       "      <td>China Construction Bank</td>\n",
       "      <td>139.82</td>\n",
       "      <td>111.86</td>\n",
       "      <td>130.03</td>\n",
       "      <td>11598.07</td>\n",
       "    </tr>\n",
       "    <tr>\n",
       "      <th>9</th>\n",
       "      <td>Bank of China</td>\n",
       "      <td>136.81</td>\n",
       "      <td>109.45</td>\n",
       "      <td>127.23</td>\n",
       "      <td>11348.39</td>\n",
       "    </tr>\n",
       "  </tbody>\n",
       "</table>\n",
       "</div>"
      ],
      "text/plain": [
       "                                      Name  MC_USD_Billion  MC_GBP_Billion  \\\n",
       "0                           JPMorgan Chase          432.92          346.34   \n",
       "1                          Bank of America          231.52          185.22   \n",
       "2  Industrial and Commercial Bank of China          194.56          155.65   \n",
       "3               Agricultural Bank of China          160.68          128.54   \n",
       "4                                HDFC Bank          157.91          126.33   \n",
       "5                              Wells Fargo          155.87          124.70   \n",
       "6                        HSBC Holdings PLC          148.90          119.12   \n",
       "7                           Morgan Stanley          140.83          112.66   \n",
       "8                  China Construction Bank          139.82          111.86   \n",
       "9                            Bank of China          136.81          109.45   \n",
       "\n",
       "   MC_EUR_Billion  MC_INR_Billion  \n",
       "0          402.62        35910.71  \n",
       "1          215.31        19204.58  \n",
       "2          180.94        16138.75  \n",
       "3          149.43        13328.41  \n",
       "4          146.86        13098.63  \n",
       "5          144.96        12929.42  \n",
       "6          138.48        12351.26  \n",
       "7          130.97        11681.85  \n",
       "8          130.03        11598.07  \n",
       "9          127.23        11348.39  "
      ]
     },
     "execution_count": 113,
     "metadata": {},
     "output_type": "execute_result"
    }
   ],
   "source": [
    "df = transform(df)\n",
    "df.head(10)"
   ]
  },
  {
   "cell_type": "code",
   "execution_count": 114,
   "id": "3189b8cc-f37d-4650-92af-21eeddf7a399",
   "metadata": {},
   "outputs": [],
   "source": [
    "#Hàm chuyển dữ liệu vào file csv\n",
    "def load_to_csv(df,csv_path):\n",
    "    df.to_csv(csv_path)\n",
    "    log_progress('Load to CSV')"
   ]
  },
  {
   "cell_type": "code",
   "execution_count": 115,
   "id": "fe53f569-7348-4de3-890c-f5f17116dd43",
   "metadata": {},
   "outputs": [
    {
     "name": "stdout",
     "output_type": "stream",
     "text": [
      "2025-Feb-24-16:12:31: Load to CSV\n"
     ]
    }
   ],
   "source": [
    "load_to_csv(df,r'C:\\Users\\H\\Downloads\\FINAL_PROJECT\\top_10_banks.csv')"
   ]
  },
  {
   "cell_type": "code",
   "execution_count": 116,
   "id": "741ea14e-5603-4af9-9580-ae177734a58f",
   "metadata": {},
   "outputs": [],
   "source": [
    "#Hàm load vào db sqlite\n",
    "table_name = 'Largest_banks'\n",
    "db_name = 'Banks.db'\n",
    "conn = sqlite3.connect(db_name)\n",
    "def load_to_db(df, conn, table_name):\n",
    "    df.to_sql(table_name, conn, if_exists = 'replace', index = False)\n",
    "    log_progress('Load to DB')"
   ]
  },
  {
   "cell_type": "code",
   "execution_count": 117,
   "id": "6fa579d4-b37b-418a-b2a9-24da0126de0b",
   "metadata": {},
   "outputs": [
    {
     "name": "stdout",
     "output_type": "stream",
     "text": [
      "2025-Feb-24-16:12:34: Load to DB\n"
     ]
    }
   ],
   "source": [
    "load_to_db(df,conn,table_name)"
   ]
  },
  {
   "cell_type": "code",
   "execution_count": 123,
   "id": "c1d75621-0b5a-4c45-a23c-279614ecfe60",
   "metadata": {},
   "outputs": [],
   "source": [
    "# Hàm chạy các câu truy vấn\n",
    "def run_query(query_statement,conn):\n",
    "    #print(query_statement)\n",
    "    query_output = pd.read_sql(query_statement,conn)\n",
    "    print(query_output)"
   ]
  },
  {
   "cell_type": "code",
   "execution_count": 125,
   "id": "56b55258-2bfe-4e12-80bd-b9345e40be39",
   "metadata": {},
   "outputs": [
    {
     "name": "stdout",
     "output_type": "stream",
     "text": [
      "                                      Name  MC_USD_Billion  MC_GBP_Billion  \\\n",
      "0                           JPMorgan Chase          432.92          346.34   \n",
      "1                          Bank of America          231.52          185.22   \n",
      "2  Industrial and Commercial Bank of China          194.56          155.65   \n",
      "3               Agricultural Bank of China          160.68          128.54   \n",
      "4                                HDFC Bank          157.91          126.33   \n",
      "5                              Wells Fargo          155.87          124.70   \n",
      "6                        HSBC Holdings PLC          148.90          119.12   \n",
      "7                           Morgan Stanley          140.83          112.66   \n",
      "8                  China Construction Bank          139.82          111.86   \n",
      "9                            Bank of China          136.81          109.45   \n",
      "\n",
      "   MC_EUR_Billion  MC_INR_Billion  \n",
      "0          402.62        35910.71  \n",
      "1          215.31        19204.58  \n",
      "2          180.94        16138.75  \n",
      "3          149.43        13328.41  \n",
      "4          146.86        13098.63  \n",
      "5          144.96        12929.42  \n",
      "6          138.48        12351.26  \n",
      "7          130.97        11681.85  \n",
      "8          130.03        11598.07  \n",
      "9          127.23        11348.39  \n"
     ]
    }
   ],
   "source": [
    "run_query(f\"SELECT * FROM Largest_banks\",conn)"
   ]
  },
  {
   "cell_type": "code",
   "execution_count": 126,
   "id": "def8f74d-06c9-45c6-b804-168bcdd1156a",
   "metadata": {},
   "outputs": [
    {
     "name": "stdout",
     "output_type": "stream",
     "text": [
      "   AVG(MC_GBP_Billion)\n",
      "0              151.987\n"
     ]
    }
   ],
   "source": [
    "run_query(f\"SELECT AVG(MC_GBP_Billion) FROM Largest_banks\",conn)"
   ]
  },
  {
   "cell_type": "code",
   "execution_count": 127,
   "id": "3398c839-59e5-42f4-9c56-a5351896431b",
   "metadata": {},
   "outputs": [
    {
     "name": "stdout",
     "output_type": "stream",
     "text": [
      "                                      Name\n",
      "0                           JPMorgan Chase\n",
      "1                          Bank of America\n",
      "2  Industrial and Commercial Bank of China\n",
      "3               Agricultural Bank of China\n",
      "4                                HDFC Bank\n"
     ]
    }
   ],
   "source": [
    "run_query(f\"SELECT Name FROM Largest_banks LIMIT 5\",conn)"
   ]
  },
  {
   "cell_type": "code",
   "execution_count": null,
   "id": "33e32183-25ce-4181-811f-a4909d395547",
   "metadata": {},
   "outputs": [],
   "source": []
  }
 ],
 "metadata": {
  "kernelspec": {
   "display_name": "Python 3 (ipykernel)",
   "language": "python",
   "name": "python3"
  },
  "language_info": {
   "codemirror_mode": {
    "name": "ipython",
    "version": 3
   },
   "file_extension": ".py",
   "mimetype": "text/x-python",
   "name": "python",
   "nbconvert_exporter": "python",
   "pygments_lexer": "ipython3",
   "version": "3.11.7"
  }
 },
 "nbformat": 4,
 "nbformat_minor": 5
}
